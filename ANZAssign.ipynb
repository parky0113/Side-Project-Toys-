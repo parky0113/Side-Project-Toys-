{
 "cells": [
  {
   "cell_type": "markdown",
   "metadata": {
    "collapsed": false
   },
   "source": [
    "<h3>Lab 4/5: Mini-Assignment<br></h3>\n",
    "\n",
    "# ANZ Lab Assignment"
   ]
  },
  {
   "cell_type": "raw",
   "metadata": {
    "collapsed": false
   },
   "source": [
    "import numpy as np\n",
    "import matplotlib.pyplot as plt"
   ]
  },
  {
   "cell_type": "raw",
   "metadata": {
    "collapsed": false,
    "deletable": false
   },
   "source": [
    "---\n",
    "\n",
    "### Declaration\n",
    "\n",
    "*I am aware of the University’s [policy on academic conduct](https://www.governance.uwa.edu.au/procedures/policies/policies-and-procedures?method=document&id=UP07/21) and I declare that this assignment is my own work entirely and that suitable acknowledgement has been made for any sources of information used in preparing it. I have retained a hard copy for my own records.*\n",
    "\n",
    "Name: Sunghyun(Sean) Park\n",
    "\n",
    "Date: 07/09/2021\n",
    "\n",
    "---"
   ]
  },
  {
   "cell_type": "markdown",
   "metadata": {
    "collapsed": false,
    "deletable": false,
    "editable": false,
    "nbgrader": {
     "grade": false,
     "grade_id": "ANZAssign",
     "locked": true,
     "points": 10,
     "schema_version": 3,
     "solution": false,
     "task": true
    }
   },
   "source": [
    "## Task\n",
    "\n",
    "Investigate the similarities and differences between Australia and New Zealand on a demographic feature of your choice, as discussed in the accompanying assignment sheet `ANZAssign.pdf`.\n",
    "\n",
    "---"
   ]
  },
  {
   "cell_type": "raw",
   "metadata": {
    "collapsed": false
   },
   "source": [
    "# Comparing Dwelling Structure Data Between \n",
    "# Australia and South Korea  \n",
    "\n",
    "# \n",
    "\n",
    "### Content\n",
    "\n",
    "Australia and South Korea have very different demographic and geographic figures.  \n",
    "Australia has about 25 million people in area of 7.7 million $km^2$. While, South Korea has about 50 million people in area of 0.1 million $km^2$.  \n",
    "If we compare population density, 3.4 Australia people can live in $1km^2$, while 507 Korean should share $1km^2$.  \n",
    "\n",
    "Then, how South Korea maintain such large population in small land?\n",
    "\n",
    "Those demographic and geographic differences may lead to difference in dwelling structures. I think majority of dwelling structure in South Korea would be apartments to occupy many people in limited area, while most Australians live in separated house.  \n",
    "\n",
    "We will explore data and see if our hypothesis is right.\n"
   ]
  },
  {
   "cell_type": "raw",
   "metadata": {
    "collapsed": false
   },
   "source": [
    "### Data Acquisition\n",
    "\n",
    "We used Australia's dwelling structure data in 2016 Census General Community Profile datapack which can be downloaded from the ABS.  \n",
    "Unzip the package, and open the Metadata spreadsheet. Find the table that reports dwelling structure by household from the Census.\n",
    "\n",
    "We used South Korea's dwelling structure data in 2015 Census Data in Korea Population and Housing Census (https://www.census.go.kr/mainView.do)  \n",
    "You can find the data about dwelling structure by household very easily in Census Report category. (https://kosis.kr/statHtml/statHtml.do?orgId=101&tblId=DT_1IN1502&vw_cd=&list_id=&seqNo=&lang_mode=ko&language=kor&obj_var_id=&itm_id=&conn_path=I2)\n",
    "\n",
    "\n",
    "Since South Korea's data is in Korean, it must be translated into English. I uploaded two same data file, one is in Korean and the other one is in English.  \n",
    "(\"인구__가구_및_주택__읍면동_2015_2020___시군구_20162019__20210909043404.csv\", \"Translated Korea Population and Housing Census.csv\")\n",
    "\n",
    "Here are some words that I translated:  \n",
    "\"총인구 (명),가구-계 (가구),주택-계 (호),단독주택 (호),아파트 (호),연립주택 (호),다세대주택 (호),비거주용 건물내 주택 (호),주택이외의 거처 (호)\"  \n",
    "\"Population,Households,Dwellings,Separate House,Apartment,Row House,Row House(4 more stories),Dwelling in Commercial building,Other dwellings\"\n",
    "\n",
    "\n",
    "Upload the data to the directory for this assignment in CoCalc.\n",
    "\n"
   ]
  },
  {
   "cell_type": "raw",
   "metadata": {
    "collapsed": false
   },
   "source": [
    "### Data Cleaning\n",
    "\n",
    "Firstly, we examine the Korea's data.  \n",
    "There are 3 rows of data and some of them are irrelevant to data.  \n",
    "Eliminate the unnecessary data and put them into list of pairs.\n"
   ]
  },
  {
   "cell_type": "raw",
   "metadata": {
    "collapsed": false
   },
   "source": [
    "with open('Translated Korea Population and Housing Census.csv', 'r') as kor_census:\n",
    "    kor_data = kor_census.readlines()\n",
    "    \n",
    "del kor_data[0] # we do not need year reference\n",
    "\n",
    "kor_cat_list = kor_data[0][:-1].split(',') # categories in kor_data, delete new line caracter\n",
    "kor_num_list = kor_data[1][:-1].split(',') # statistic in kor_data, delete new line caracter\n",
    "\n",
    "kor_total_list = []\n",
    "for pair in zip(kor_cat_list,kor_num_list):\n",
    "    kor_total_list.append(pair) # pair them into single list\n",
    "    \n",
    "del kor_total_list[0] # delete unnecessary data\n",
    "\n",
    "# saving some information for later uses\n",
    "kor_population = kor_total_list.pop(0)[1]\n",
    "num_hh = int(kor_total_list.pop(0)[1])\n",
    "num_ds = int(kor_total_list.pop(0)[1])"
   ]
  },
  {
   "cell_type": "raw",
   "metadata": {
    "collapsed": false
   },
   "source": [
    "Secondly, we examine the Australia's data.  \n",
    "We can clearly see that South Korea's data has much less categories.  \n",
    "Therefore, Australia's data will be reduced to small range of categories since we can not make up the numbers.\n"
   ]
  },
  {
   "cell_type": "raw",
   "metadata": {
    "collapsed": false
   },
   "source": [
    "with open('2016Census_G39_AUS.csv', 'r') as aus_census:\n",
    "    aus_data = aus_census.readlines()\n",
    "aus_cat_list = aus_data[0][:-1].split(',') # categories in aus_data, delete new line caracter\n",
    "aus_num_list = aus_data[1].split(',') # statistic in aus_data"
   ]
  },
  {
   "cell_type": "raw",
   "metadata": {
    "collapsed": false
   },
   "source": [
    "After skimming, we find out that every 8th column will have total number of households for that category.  \n",
    "Get list of total numbers.  \n"
   ]
  },
  {
   "cell_type": "raw",
   "metadata": {
    "collapsed": false
   },
   "source": [
    "need_index = slice(8,len(aus_cat_list),8)\n",
    "aus_cat_list = aus_cat_list[need_index] # extracting required information\n",
    "aus_num_list = aus_num_list[need_index] # extracting required information\n",
    "print(aus_cat_list)"
   ]
  },
  {
   "cell_type": "raw",
   "metadata": {
    "collapsed": false
   },
   "source": [
    "Now we have reduced the data to small range, so we can manually select the data that we want."
   ]
  },
  {
   "cell_type": "raw",
   "metadata": {
    "collapsed": false
   },
   "source": [
    "ind_list = [0,3,8,13,14] # manual selecting\n",
    "aus_total_list = []\n",
    "for i in ind_list:\n",
    "    aus_total_list.append((aus_cat_list[i],aus_num_list[i])) # pair them into single list"
   ]
  },
  {
   "cell_type": "raw",
   "metadata": {
    "collapsed": false
   },
   "source": [
    "According to South Korea Census, there are 8 categories which are 'total number of households', 'total number of households live in dwellings', 'number of households live in separated house', 'number of households live in apartment', 'number of households live in row house', 'number of households live in row house which is more than 4 stories', 'number of households live in dwelling which is built for business purpose', 'number of households live in other dwelling'."
   ]
  },
  {
   "cell_type": "raw",
   "metadata": {
    "collapsed": false
   },
   "source": [
    "print(kor_total_list)"
   ]
  },
  {
   "cell_type": "raw",
   "metadata": {
    "collapsed": false
   },
   "source": [
    "Similarly, in Australia's data we can find the number of households live in 'separate house', 'Semi-detached, row or terrace house, townhouse', 'Flat or apartment', 'Other dwelling', 'Dwelling not stated'."
   ]
  },
  {
   "cell_type": "raw",
   "metadata": {
    "collapsed": false
   },
   "source": [
    "print(aus_total_list)"
   ]
  },
  {
   "cell_type": "raw",
   "metadata": {
    "collapsed": false
   },
   "source": [
    "We will adjust the data for easier comparing.  \n",
    "Now, we have smaller categories in Australia's data so we are going to adjust the Korea's data.\n"
   ]
  },
  {
   "cell_type": "raw",
   "metadata": {
    "collapsed": false
   },
   "source": [
    "Firstly, we will merge the data of row house since there are two row house categories.  "
   ]
  },
  {
   "cell_type": "raw",
   "metadata": {
    "collapsed": false
   },
   "source": [
    "num_rh = int(kor_total_list.pop(2)[1]) # number of households live in row house\n",
    "num_rh += int(kor_total_list.pop(2)[1]) # number of households live in row house with 4 more stories\n",
    "kor_total_list.append(('Row house', num_rh))"
   ]
  },
  {
   "cell_type": "raw",
   "metadata": {
    "collapsed": false
   },
   "source": [
    "Secondly, we also merge the data of households live in business building and other dwelling because Australia Census does not have business building factor.  "
   ]
  },
  {
   "cell_type": "raw",
   "metadata": {
    "collapsed": false
   },
   "source": [
    "num_od = int(kor_total_list.pop(2)[1])# number of households live in business purpose building\n",
    "num_od += int(kor_total_list.pop(2)[1]) # number of households live in other dwellings\n",
    "kor_total_list.append(('Other dewlling', num_od))"
   ]
  },
  {
   "cell_type": "raw",
   "metadata": {
    "collapsed": false
   },
   "source": [
    "Lastly, we'll add new category which is 'dwelling not stated'. We can calculate this by subtracting sum of households live in all dwellings from 'total number of households live in dwellings'."
   ]
  },
  {
   "cell_type": "raw",
   "metadata": {
    "collapsed": false
   },
   "source": [
    "total = 0\n",
    "for info in kor_total_list:\n",
    "    total += int(info[1]) # total number of households live in dwelling\n",
    "kor_total_list.append(('Dwelling not stated',int(num_hh) - total)) # adding dwelling not stated info"
   ]
  },
  {
   "cell_type": "raw",
   "metadata": {
    "collapsed": false
   },
   "source": [
    "## Data Analysis\n",
    "We have done cleaning data and put them into list.  \n",
    "\n",
    "To analyse those data, it will be easier to use other format other than list.  \n",
    "\n",
    "First, we are going to rank statistic by using dictionary.\n",
    "To put data into dictionary, we are going to create function to do this easily."
   ]
  },
  {
   "cell_type": "raw",
   "metadata": {
    "collapsed": false
   },
   "source": [
    "def into_dict(stat):\n",
    "    \"\"\" this function convert list of paisrs into dictionary \"\"\"\n",
    "    info_dict = {}\n",
    "    for info in stat:\n",
    "        info_dict[info[0]] = int(info[1])\n",
    "    return info_dict"
   ]
  },
  {
   "cell_type": "raw",
   "metadata": {
    "collapsed": false
   },
   "source": [
    "Then, we create dictionaries with information."
   ]
  },
  {
   "cell_type": "raw",
   "metadata": {
    "collapsed": false
   },
   "source": [
    "aus_dict = into_dict(aus_total_list)\n",
    "kor_dict = into_dict(kor_total_list)\n",
    "print(aus_dict, kor_dict)"
   ]
  },
  {
   "cell_type": "raw",
   "metadata": {
    "collapsed": false
   },
   "source": [
    "Now, we are going to sort them by value in descending order."
   ]
  },
  {
   "cell_type": "raw",
   "metadata": {
    "collapsed": false
   },
   "source": [
    "# sorting by values using sorted function and key \n",
    "rank_aus = dict(sorted(aus_dict.items(), key=(lambda x:x[1]), reverse = True))\n",
    "rank_kor = dict(sorted(kor_dict.items(), key=(lambda x:x[1]), reverse = True))\n",
    "print(rank_aus, rank_kor)"
   ]
  },
  {
   "cell_type": "raw",
   "metadata": {
    "collapsed": false
   },
   "source": [
    "We have sorted dwelling structure in descending order, so it is easy to see which dwelling type is the most.  \n",
    "However, it is hard to know by looking at the numbers.\n",
    "\n",
    "It might be good idea to convert the statistic into proportion.  \n",
    "Let's make Korea's data to percentage by using numpy array."
   ]
  },
  {
   "cell_type": "raw",
   "metadata": {
    "collapsed": false
   },
   "source": [
    "def np_maker(stats):\n",
    "    \"\"\" \n",
    "    this function get list of statistic \n",
    "    convert them to numpy array and find the percentage of each element.\n",
    "    \"\"\"\n",
    "    np_stats = np.array(stats)\n",
    "    np_stats = np_stats / np_stats.sum() * 100\n",
    "    np_stats[::-1].sort()\n",
    "    return np_stats"
   ]
  },
  {
   "cell_type": "raw",
   "metadata": {
    "collapsed": false
   },
   "source": [
    "np_kor = np_maker(list(rank_kor.values())) #using numpy array for fewer calculations.\n",
    "print(np_kor)\n",
    "print(list(rank_kor.keys()))"
   ]
  },
  {
   "cell_type": "raw",
   "metadata": {
    "collapsed": false
   },
   "source": [
    "It is much easier to see which dwelling has the most proportion in the country.\n",
    "\n",
    "Let's try for Australia's data."
   ]
  },
  {
   "cell_type": "raw",
   "metadata": {
    "collapsed": false
   },
   "source": [
    "np_aus = np_maker(list(rank_aus.values())) #using numpy array for fewer calculations.\n",
    "print(np_aus)\n",
    "print(list(rank_aus.keys()))"
   ]
  },
  {
   "cell_type": "raw",
   "metadata": {
    "collapsed": false
   },
   "source": [
    "Now we have done sorting in descending order.  \n",
    "Before visualise it, we are going to standardise the categories into same format.\n"
   ]
  },
  {
   "cell_type": "raw",
   "metadata": {
    "collapsed": false
   },
   "source": [
    "kor_dwelling_types = list(rank_kor.keys())\n",
    "aus_dwelling_types = ['Separate House', 'Apartment', 'Row House', 'Other dwelling', 'Dwelling not stated'] #unifying factors"
   ]
  },
  {
   "cell_type": "raw",
   "metadata": {
    "collapsed": false
   },
   "source": [
    "## Data Visualisation\n",
    "Everything is done for comparing and visualisation.  \n",
    "Let's make pie chart, since it is the most suitable type of chart to compare proportion."
   ]
  },
  {
   "cell_type": "raw",
   "metadata": {
    "collapsed": false
   },
   "source": [
    "# this block is for detail information of pie chart\n",
    "colors = ['#ff9999', '#ffc000', '#8fd9b6', '#d395d0', 'green']\n",
    "wedgeprops={'width': 0.7, 'edgecolor': 'w', 'linewidth': 5}\n",
    "\n",
    "# plotting pie chart of Korea's data \n",
    "plt.title('South Korea Dwelling Structure Proportion')\n",
    "plt.pie(np_kor, labels = kor_dwelling_types, autopct = '%.2f%%',startangle=260, counterclock=False, colors=colors, wedgeprops=wedgeprops)\n",
    "plt.show()\n"
   ]
  },
  {
   "cell_type": "raw",
   "metadata": {
    "collapsed": false
   },
   "source": [
    "We can clearly see that Apartment is the most popular dwelling by having more than half of proportion in Korea's dwelling structure.  \n",
    "Following structure is Seperate House which has 18% and Row house has 13%, Dwelling unknown has 9% and other dewlling is 6%.  \n",
    "\n",
    "Now, let's try Australia's data."
   ]
  },
  {
   "cell_type": "raw",
   "metadata": {
    "collapsed": false
   },
   "source": [
    "# plotting pie chart of Australia's data\n",
    "plt.title(\"Australia Dwelling Structure Proportion\")\n",
    "plt.pie(np_aus, labels = aus_dwelling_types, autopct = '%.2f%%',startangle=260, counterclock=False, colors=colors, wedgeprops=wedgeprops)\n",
    "plt.show()"
   ]
  },
  {
   "cell_type": "raw",
   "metadata": {
    "collapsed": false
   },
   "source": [
    "Well, it is hard to see the numbers and labels due to some categories.  \n",
    "We need to change a type of chart to see more clearly.  \n",
    "\n",
    "Let's try bar plot."
   ]
  },
  {
   "cell_type": "raw",
   "metadata": {
    "collapsed": false
   },
   "source": [
    "# detail settings of bar plot\n",
    "plt.title(\"Australia Dwelling Structure Proportion\")\n",
    "plt.xlabel(\"Australia Dwelling Types\", labelpad=10)\n",
    "plt.ylabel(\"Percentage of Dwelling in Australia\", labelpad=10)\n",
    "plt.ylim([0, 80])\n",
    "plt.grid(True, axis='y')\n",
    "\n",
    "# indicating the percentage at the top of the bars\n",
    "point_x = -0.1\n",
    "for i in np_aus:\n",
    "    plt.text(point_x, i + 2, f'{i:0.2f}%')\n",
    "    point_x += 1\n",
    "\n",
    "# plotting bar plot of Australia's data\n",
    "plt.bar(aus_dwelling_types, np_aus, width = 0.5, color = ['#ff9999', '#ffc000', '#8fd9b6', '#d395d0', 'green'])\n",
    "plt.show()"
   ]
  },
  {
   "cell_type": "raw",
   "metadata": {
    "collapsed": false
   },
   "source": [
    "It is very easy to see and tell which type of dwelling has the most occupancy.  \n",
    "Australia's favorite dwelling structure is Separate House which has 73% of total and 13% of Apartment, 13% of Row House and less than 1% of Other dwelling and unknown.\n",
    "\n",
    "Now, maybe it will be easier to see the difference if there are two charts in one graph"
   ]
  },
  {
   "cell_type": "raw",
   "metadata": {
    "collapsed": false
   },
   "source": [
    "# 1. basic settings\n",
    "plt.style.use('default')\n",
    "plt.rcParams['figure.figsize'] = (7, 4)\n",
    "plt.rcParams['font.size'] = 8\n",
    "\n",
    "# 2. data \n",
    "x = ['Separate House', 'Apartment', 'Row House', 'Other dwelling', 'Dwelling not stated']\n",
    "y1 = np.array([18.14181059, 54.27957971, 12.81089385,  9.11360295,  5.6541129 ]) # manually ordered\n",
    "y2 = np_aus\n",
    "\n",
    "# 3. plotting graph\n",
    "fig, ax1 = plt.subplots()\n",
    "\n",
    "plt.title(\"Korea & Australia Dwelling Structure Proportion\")\n",
    "plt.xlabel('Dwelling Types', labelpad=15)\n",
    "plt.ylabel('Percentage(%)', labelpad=10)\n",
    "plt.grid(True, axis='y')\n",
    "\n",
    "ax1.plot(x, y1, '-o', color='#8fd9b6', markersize=7, linewidth=3, alpha=0.7, label='Korea')\n",
    "ax1.set_ylim(0, 80)\n",
    "ax1.legend(loc='right')\n",
    "\n",
    "ax2 = ax1.twinx()\n",
    "ax2.bar(x, y2, color='#ff9999', label='Australia', alpha=0.7, width=0.7)\n",
    "ax2.set_ylim(0, 80)\n",
    "ax2.legend(loc='upper right')\n",
    "\n",
    "plt.show()"
   ]
  },
  {
   "cell_type": "raw",
   "metadata": {
    "collapsed": false
   },
   "source": [
    "## Conlusion\n",
    "\n",
    "As we saw in the last graph, Australia and South Korea has significant difference in dwelling structures. About 70% of Australian households live in separate houses while more than 50% of South Korean households live in Apartments.  \n",
    "It is possible to think that there are a relation between demographic and geographic figures and dwelling structures. Also, our hypothesis was quite right, since apartments are the most popular dwelling structure in South Korea.  \n",
    "\n",
    "However, this analysis does not give us the definite answer for our hypothesis. South Korea and Australia have different ways of collecting data and their dwelling structures may differ from one to the other.  \n",
    "Analysis would be more reliable if there are more countries and more standardised data.\n"
   ]
  },
  {
   "cell_type": "raw",
   "metadata": {
    "collapsed": false
   },
   "source": [
    "#### Further Investigation\n",
    "\n",
    "Additionally, we could calculate average number of people in one households.  \n",
    "It may give us a clue about relationship between dwelling types and family composition.  "
   ]
  },
  {
   "cell_type": "raw",
   "metadata": {
    "collapsed": false
   },
   "source": [
    "print(f\"Num of Korean in a households : {int(kor_population) / sum(list(rank_kor.values()))}\\nNum of Australian in a households : {25863184 / sum(list(rank_aus.values()))}\")"
   ]
  },
  {
   "cell_type": "raw",
   "metadata": {
    "collapsed": false
   },
   "source": [
   ]
  }
 ],
 "metadata": {
  "kernelspec": {
   "display_name": "Python 3 (system-wide)",
   "language": "python",
   "metadata": {
    "cocalc": {
     "description": "Python 3 programming language",
     "priority": 100,
     "url": "https://www.python.org/"
    }
   },
   "name": "python3",
   "resource_dir": "/ext/jupyter/kernels/python3"
  },
  "language_info": {
   "codemirror_mode": {
    "name": "ipython",
    "version": 3
   },
   "file_extension": ".py",
   "mimetype": "text/x-python",
   "name": "python",
   "nbconvert_exporter": "python",
   "pygments_lexer": "ipython3",
   "version": "3.8.10"
  }
 },
 "nbformat": 4,
 "nbformat_minor": 4
}